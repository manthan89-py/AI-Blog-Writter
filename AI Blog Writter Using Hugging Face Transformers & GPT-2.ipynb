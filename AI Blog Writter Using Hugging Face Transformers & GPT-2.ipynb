{
 "cells": [
  {
   "cell_type": "markdown",
   "metadata": {},
   "source": [
    "### Import dependencies"
   ]
  },
  {
   "cell_type": "code",
   "execution_count": 1,
   "metadata": {},
   "outputs": [],
   "source": [
    "from transformers import GPT2LMHeadModel , GPT2Tokenizer"
   ]
  },
  {
   "cell_type": "markdown",
   "metadata": {},
   "source": [
    "### Load Model"
   ]
  },
  {
   "cell_type": "code",
   "execution_count": null,
   "metadata": {},
   "outputs": [],
   "source": [
    "tokenizer = GPT2Tokenizer.from_pretrained('gpt2-large')\n",
    "model = GPT2LMHeadModel.from_pretrained('gpt2-large' , pad_token_id = tokenizer.eos_token_id )"
   ]
  },
  {
   "cell_type": "code",
   "execution_count": 3,
   "metadata": {},
   "outputs": [
    {
     "data": {
      "text/plain": [
       "'<|endoftext|>'"
      ]
     },
     "execution_count": 3,
     "metadata": {},
     "output_type": "execute_result"
    }
   ],
   "source": [
    "tokenizer.decode(tokenizer.eos_token_id)"
   ]
  },
  {
   "cell_type": "markdown",
   "metadata": {},
   "source": [
    "### Tokenize the text"
   ]
  },
  {
   "cell_type": "code",
   "execution_count": 23,
   "metadata": {},
   "outputs": [],
   "source": [
    "sentence = \"Love is\"\n",
    "input_ids = tokenizer.encode(sentence , return_tensors = 'pt')"
   ]
  },
  {
   "cell_type": "code",
   "execution_count": 24,
   "metadata": {},
   "outputs": [
    {
     "data": {
      "text/plain": [
       "tensor([[   40,   588,   262,  4771,    12, 36277]])"
      ]
     },
     "execution_count": 24,
     "metadata": {},
     "output_type": "execute_result"
    }
   ],
   "source": [
    "input_ids"
   ]
  },
  {
   "cell_type": "code",
   "execution_count": 25,
   "metadata": {},
   "outputs": [
    {
     "data": {
      "text/plain": [
       "'I like the ice-cream'"
      ]
     },
     "execution_count": 25,
     "metadata": {},
     "output_type": "execute_result"
    }
   ],
   "source": [
    "tokenizer.decode(input_ids[0])"
   ]
  },
  {
   "cell_type": "code",
   "execution_count": 26,
   "metadata": {},
   "outputs": [
    {
     "name": "stdout",
     "output_type": "stream",
     "text": [
      " like\n",
      " the\n",
      " ice\n",
      "-\n"
     ]
    }
   ],
   "source": [
    "print(tokenizer.decode(input_ids[0][1]))\n",
    "print(tokenizer.decode(input_ids[0][2]))\n",
    "print(tokenizer.decode(input_ids[0][3]))\n",
    "print(tokenizer.decode(input_ids[0][4]))"
   ]
  },
  {
   "cell_type": "markdown",
   "metadata": {},
   "source": [
    "### Generate and Decode Text"
   ]
  },
  {
   "cell_type": "code",
   "execution_count": 30,
   "metadata": {},
   "outputs": [],
   "source": [
    "output = model.generate(input_ids, max_length = 500, num_beams = 5,no_repeat_ngram_size  = 2 , early_stopping = True)"
   ]
  },
  {
   "cell_type": "code",
   "execution_count": 31,
   "metadata": {},
   "outputs": [
    {
     "data": {
      "text/plain": [
       "tensor([   40,   588,   262,  4771,    12, 36277,    11,   475,   314,   836,\n",
       "          470,   588,   340,   355,   881,   355,   314,  1807,   314,   561,\n",
       "          526,   198,   198,     1,    40,  1101,   407,  1654,   644,   345,\n",
       "          821,  3375,   546,   553,   314,   531,    13,   366,    40,  1053,\n",
       "         1239,   550,  4771,  8566,   878,    11,   523,   314,   460,   470,\n",
       "         1560,   345,   644,   340, 18221,   588,    13,   887,   314,  1101,\n",
       "         2495,  1654,   340,  1595,   470,  6938,   588,  1997,   314,  1053,\n",
       "         1683,   550,   878,    13,   314,  1612,    11,   340,   338,   407,\n",
       "          588,   314,  4398,   470,   550,   584,  4771,  1126,  4105,   287,\n",
       "          262,  1613,    11,   290,   314,   423,   550,   257,  1256,   286,\n",
       "          584,  1243,   287,   616,  1204,    13,   632,   338,   655,   326,\n",
       "          428,   318,   262,   717,   640,   340,   468,  1683,  1282,   503,\n",
       "          286,   616,  5422,    13,  1406,   314,  4724,   314,  1183,   655,\n",
       "          423,   284,  4043,   290,   766,   644,  4325,   526, 50256])"
      ]
     },
     "execution_count": 31,
     "metadata": {},
     "output_type": "execute_result"
    }
   ],
   "source": [
    "output[0]"
   ]
  },
  {
   "cell_type": "code",
   "execution_count": 32,
   "metadata": {},
   "outputs": [
    {
     "name": "stdout",
     "output_type": "stream",
     "text": [
      "I like the ice-cream, but I don't like it as much as I thought I would.\"\n",
      "\n",
      "\"I'm not sure what you're talking about,\" I said. \"I've never had ice cream before, so I can't tell you what it tastes like. But I'm pretty sure it doesn't taste like anything I've ever had before. I mean, it's not like I haven't had other ice creams in the past, and I have had a lot of other things in my life. It's just that this is the first time it has ever come out of my mouth. So I guess I'll just have to wait and see what happens.\"\n"
     ]
    }
   ],
   "source": [
    "print(tokenizer.decode(output[0] , skip_special_tokens = True))"
   ]
  },
  {
   "cell_type": "markdown",
   "metadata": {},
   "source": [
    "### Output Result"
   ]
  },
  {
   "cell_type": "code",
   "execution_count": 10,
   "metadata": {},
   "outputs": [],
   "source": [
    "text = tokenizer.decode(output[0] , skip_special_tokens = True)"
   ]
  },
  {
   "cell_type": "code",
   "execution_count": 11,
   "metadata": {},
   "outputs": [],
   "source": [
    "with open('blog_ai.txt','w') as f:\n",
    "    f.write(text)"
   ]
  }
 ],
 "metadata": {
  "kernelspec": {
   "display_name": "Python 3",
   "language": "python",
   "name": "python3"
  },
  "language_info": {
   "codemirror_mode": {
    "name": "ipython",
    "version": 3
   },
   "file_extension": ".py",
   "mimetype": "text/x-python",
   "name": "python",
   "nbconvert_exporter": "python",
   "pygments_lexer": "ipython3",
   "version": "3.8.5"
  },
  "varInspector": {
   "cols": {
    "lenName": 16,
    "lenType": 16,
    "lenVar": 40
   },
   "kernels_config": {
    "python": {
     "delete_cmd_postfix": "",
     "delete_cmd_prefix": "del ",
     "library": "var_list.py",
     "varRefreshCmd": "print(var_dic_list())"
    },
    "r": {
     "delete_cmd_postfix": ") ",
     "delete_cmd_prefix": "rm(",
     "library": "var_list.r",
     "varRefreshCmd": "cat(var_dic_list()) "
    }
   },
   "types_to_exclude": [
    "module",
    "function",
    "builtin_function_or_method",
    "instance",
    "_Feature"
   ],
   "window_display": false
  }
 },
 "nbformat": 4,
 "nbformat_minor": 4
}
